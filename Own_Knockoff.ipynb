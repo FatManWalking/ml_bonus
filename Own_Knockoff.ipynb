{
 "cells": [
  {
   "cell_type": "markdown",
   "metadata": {},
   "source": [
    "# Copycat CNN and Knockoff Nets\n",
    "\n",
    "This notebook does not work. I provided anyway to show the effort I put into the project.\n",
    "I also tried some alternatives all using the adversarial robustness toolbox from trusted AI\n",
    "https://github.com/Trusted-AI/adversarial-robustness-toolbox\n",
    "\n",
    "The provided example by trusted AI itself did also not work, even unmodified. Probably through Tensorflow 1 and 2 interferance\n",
    "(https://github.com/Trusted-AI/adversarial-robustness-toolbox/blob/main/notebooks/model-stealing-demo.ipynb)\n",
    "\n",
    "I was a bit disappointed that it did not work, since I used this GitHub to develop my Bachelor-Thesis Project about evasion attacks on tabular data."
   ]
  },
  {
   "cell_type": "markdown",
   "metadata": {},
   "source": [
    "## Installing Depenancies"
   ]
  },
  {
   "cell_type": "code",
   "execution_count": null,
   "metadata": {
    "colab": {
     "base_uri": "https://localhost:8080/"
    },
    "id": "lI316RGyTNUi",
    "outputId": "7b91e4b4-2a16-48fb-c9f6-131c7544a57e"
   },
   "outputs": [
    {
     "name": "stdout",
     "output_type": "stream",
     "text": [
      "\u001b[K     |████████████████████████████████| 1.1 MB 9.2 MB/s \n",
      "\u001b[K     |████████████████████████████████| 3.4 MB 53.0 MB/s \n",
      "\u001b[K     |████████████████████████████████| 25.3 MB 80 kB/s \n",
      "\u001b[?25h"
     ]
    }
   ],
   "source": [
    "!pip install adversarial-robustness-toolbox --quiet\n",
    "\n",
    "#!pip install pytorch==1.8.1 --quiet"
   ]
  },
  {
   "cell_type": "code",
   "execution_count": null,
   "metadata": {
    "colab": {
     "base_uri": "https://localhost:8080/"
    },
    "id": "BIbDP4HcVf0S",
    "outputId": "0510ef6b-a0db-470f-e789-93acc84b6013"
   },
   "outputs": [
    {
     "name": "stdout",
     "output_type": "stream",
     "text": [
      "Mounted at /content/drive\n"
     ]
    }
   ],
   "source": [
    "from google.colab import drive\n",
    "drive.mount('/content/drive')"
   ]
  },
  {
   "cell_type": "code",
   "execution_count": null,
   "metadata": {
    "id": "RdBwR0DdlvMC"
   },
   "outputs": [],
   "source": [
    "import os\n",
    "os.environ['CUDA_LAUNCH_BLOCKING'] = \"1\""
   ]
  },
  {
   "cell_type": "code",
   "execution_count": null,
   "metadata": {
    "colab": {
     "base_uri": "https://localhost:8080/"
    },
    "id": "pFtW7N92TZHo",
    "outputId": "322ba8eb-c49e-4879-a9a3-f0148d6e2472"
   },
   "outputs": [
    {
     "name": "stderr",
     "output_type": "stream",
     "text": [
      "/usr/local/lib/python3.7/dist-packages/ipykernel_launcher.py:3: DeprecationWarning: The module art.classifiers will be removed in ART 1.8.0 and replaced with art.estimators.classification\n",
      "  This is separate from the ipykernel package so we can avoid doing imports until\n"
     ]
    }
   ],
   "source": [
    "import art\n",
    "\n",
    "from art.classifiers import PyTorchClassifier"
   ]
  },
  {
   "cell_type": "code",
   "execution_count": null,
   "metadata": {
    "id": "BRfw8A8lTfIA"
   },
   "outputs": [],
   "source": [
    "import numpy as np\n",
    "import matplotlib.pyplot as plt\n",
    "%matplotlib inline\n",
    "import time\n",
    "import copy\n",
    "\n",
    "from PIL import Image\n",
    "from matplotlib import image\n",
    "from matplotlib import pyplot as plt\n",
    "\n",
    "import torch\n",
    "import torch.nn as nn\n",
    "from torch.nn import Sequential\n",
    "import torchvision.transforms as transforms\n",
    "import torchvision.models as models\n",
    "import torch.optim as optim\n",
    "import torchvision\n",
    "\n",
    "from warnings import simplefilter\n",
    "simplefilter(action='ignore', category=FutureWarning)"
   ]
  },
  {
   "cell_type": "code",
   "execution_count": null,
   "metadata": {
    "colab": {
     "base_uri": "https://localhost:8080/"
    },
    "id": "IMtaDVeSqtiT",
    "outputId": "3e0e0e79-c7d5-4afa-ff39-ad06e16da8d5"
   },
   "outputs": [
    {
     "name": "stdout",
     "output_type": "stream",
     "text": [
      "1.9.0+cu102\n"
     ]
    }
   ],
   "source": [
    "print(torch.__version__)"
   ]
  },
  {
   "cell_type": "markdown",
   "metadata": {},
   "source": [
    "## Get the data via a data loader"
   ]
  },
  {
   "cell_type": "code",
   "execution_count": null,
   "metadata": {
    "id": "hOPImhjTU1Wb"
   },
   "outputs": [],
   "source": [
    "def get_data_loader(batch_size=5):\n",
    "    \"\"\"\n",
    "    define data augmentation and return data loader with the cifar10 dataset loaded\n",
    "    parameters:\n",
    "        batch_size: size of the batch used for training and validation \n",
    "                    size of test batch is always 10\n",
    "    Return:\n",
    "        3 pytorch.dataloaders for easy batching of the dataset (train, validation and test)\n",
    "    \"\"\"\n",
    "\n",
    "    # data augmentation\n",
    "    \"\"\"\n",
    "    transform = transforms.Compose([\n",
    "            transforms.Resize([224,224]), # Resizing the image as the VGG only take 224 x 244 as input size\n",
    "            transforms.RandomHorizontalFlip(), # Flip the data horizontally\n",
    "            #TODO if it is needed, add the random crop\n",
    "            transforms.ToTensor(),\n",
    "            transforms.Normalize((0.5, 0.5, 0.5), (0.5, 0.5, 0.5))\n",
    "    ])\n",
    "    \"\"\"\n",
    "    transform_train = transforms.Compose([\n",
    "        transforms.RandomCrop(32, padding=4),\n",
    "        transforms.RandomHorizontalFlip(),\n",
    "        transforms.ToTensor(),\n",
    "        transforms.Normalize((0.4914, 0.4822, 0.4465), (0.2023, 0.1994, 0.2010)),\n",
    "    ])\n",
    "\n",
    "    transform_test = transforms.Compose([\n",
    "        transforms.ToTensor(),\n",
    "        transforms.Normalize((0.4914, 0.4822, 0.4465), (0.2023, 0.1994, 0.2010)),\n",
    "    ])\n",
    "        \n",
    "    trainset = torchvision.datasets.CIFAR100(root='./data', train=True,\n",
    "                                        download=True, transform=transform_train)\n",
    "    test = torchvision.datasets.CIFAR100(root='./data', train=False,\n",
    "                                       download=False, transform=transform_test)\n",
    "    \n",
    "    n = len(trainset)\n",
    "    print(n)\n",
    "    train, val, steal =torch.utils.data.random_split(trainset, \n",
    "                                                    [int(n//100*50), int(n//100*30), int(n//100*20)],\n",
    "                                                    generator=torch.Generator().manual_seed(42))\n",
    "    \n",
    "    train_loader = torch.utils.data.DataLoader(dataset=train, batch_size=batch_size, shuffle=True, num_workers=0)\n",
    "    val_loader = torch.utils.data.DataLoader(dataset=val, batch_size=batch_size, shuffle=True, num_workers=0)\n",
    "    steal_loader = torch.utils.data.DataLoader(dataset=steal, batch_size=batch_size, shuffle=True, num_workers=0)\n",
    "    test_loader = torch.utils.data.DataLoader(dataset=test, batch_size=batch_size, shuffle=True, num_workers=0)\n",
    "\n",
    "    return train_loader, val_loader, steal_loader, test_loader"
   ]
  },
  {
   "cell_type": "code",
   "execution_count": null,
   "metadata": {
    "colab": {
     "base_uri": "https://localhost:8080/"
    },
    "id": "ivfuzCoOU6JH",
    "outputId": "b30b1ddb-ff14-4a04-a2f7-72db7aeea96a"
   },
   "outputs": [
    {
     "name": "stdout",
     "output_type": "stream",
     "text": [
      "Files already downloaded and verified\n",
      "50000\n"
     ]
    }
   ],
   "source": [
    "train_loader, val_loader, steal_loader, test_loader = get_data_loader(batch_size=5)"
   ]
  },
  {
   "cell_type": "markdown",
   "metadata": {
    "colab": {
     "base_uri": "https://localhost:8080/",
     "height": 163
    },
    "id": "ogXjQZfHveux",
    "outputId": "aee62075-536d-4a1b-e408-9693df08850c"
   },
   "source": [
    "## Get a pretrained VGG Net and tune it Cifar Datasets\n",
    "\n",
    "Both worked fine, but had there own problems on being integrated into the adversarial framework"
   ]
  },
  {
   "cell_type": "code",
   "execution_count": null,
   "metadata": {
    "id": "J8aEy8hiU8oC"
   },
   "outputs": [],
   "source": [
    "#model_name = 'vgg11_bn'\n",
    "num_classes = 100\n",
    "#feature_extract = True"
   ]
  },
  {
   "cell_type": "code",
   "execution_count": null,
   "metadata": {
    "id": "QznaTxNvVKde"
   },
   "outputs": [],
   "source": [
    "class VGG(nn.Module):\n",
    "\n",
    "    def __init__(self, model_name='vgg11', num_classes='10', feature_extract=True, use_pretrained=True):\n",
    "        \"\"\"\n",
    "        initalizes the version of VGG to be used and freezes the layers of the model and then add a new unfrozen head\n",
    "\n",
    "        params:\n",
    "            model_name(str): for example vgg16_bn for VGG-net with 16 weight layers and batch normalization\n",
    "            num_classes(int): number of output classes (100 when using CIFAR100)\n",
    "            feature_extract(bool): should the layers be frozen or not\n",
    "            use_pretrained(bool): use the pretrained model weights or only the architecture itself\n",
    "        \"\"\"\n",
    "        super().__init__()\n",
    "\n",
    "        if model_name == 'vgg11':\n",
    "            model = models.vgg11(pretrained=use_pretrained)\n",
    "        elif model_name == 'vgg11_bn':\n",
    "            model = models.vgg11_bn(pretrained=use_pretrained)\n",
    "        elif model_name == 'vgg16':\n",
    "            model = models.vgg16(pretrained=use_pretrained)\n",
    "        elif model_name == 'vgg16_bn':\n",
    "            model = models.vgg16_bn(pretrained=use_pretrained)\n",
    "        elif model_name == 'vgg19':\n",
    "            model = models.vgg19(pretrained=use_pretrained)\n",
    "        elif model_name == 'vgg19_bn':\n",
    "            model = models.vgg19_bn(pretrained=use_pretrained)\n",
    "\n",
    "        self.device = torch.device(\"cuda:0\" if torch.cuda.is_available() else \"cpu\")\n",
    "        self.model = model\n",
    "        \n",
    "        \n",
    "        self.set_parameter_requires_grad(feature_extract)\n",
    "        num_ftrs = model.classifier[6].in_features\n",
    "        model.classifier[6] = nn.Linear(num_ftrs,num_classes)\n",
    "        input_size = 224\n",
    "\n",
    "        self.model.to(self.device)\n",
    "        self.feature_extract = feature_extract\n",
    "        self.input_size = input_size\n",
    "    \n",
    "    def get_params_to_update(self):\n",
    "        \"\"\" \n",
    "        prints the list of weights and bias that not frozen and will be tuned\n",
    "        \n",
    "        Gather the parameters to be optimized/updated in this run. If we are\n",
    "        finetuning we will be updating all parameters. However, if we are\n",
    "        doing feature extract method, we will only update the parameters\n",
    "        that we have just initialized, i.e. the parameters with requires_grad\n",
    "        is True.\n",
    "        \"\"\"\n",
    "\n",
    "        params_to_update = self.model.parameters()\n",
    "        print(\"\\tWeights and Bias to be tuned:\")\n",
    "        if self.feature_extract:\n",
    "            params_to_update = []\n",
    "            for name,param in self.model.named_parameters():\n",
    "                if param.requires_grad == True:\n",
    "                    params_to_update.append(param)\n",
    "                    print(\"\\t\\t\",name)\n",
    "        else:\n",
    "            for name,param in self.model.named_parameters():\n",
    "                if param.requires_grad == True:\n",
    "                    print(\"\\t\\t\",name)\n",
    "                    \n",
    "        return params_to_update\n",
    "    \n",
    "    def set_parameter_requires_grad(self, feature_extracting):\n",
    "        \"\"\"\n",
    "        this freezes the layers in the network\n",
    "        the new layer added later will automatically be unfrozen\n",
    "        \"\"\"\n",
    "        if feature_extracting:\n",
    "            for param in self.model.parameters():\n",
    "                param.requires_grad = False\n",
    "        \n",
    "\n",
    "    def train_model(self, train_loader, val_loader, criterion, optimizer, num_epochs=25, is_inception=False):\n",
    "        since = time.time()\n",
    "\n",
    "        val_acc_history = []\n",
    "        val_loss_history = []\n",
    "\n",
    "        best_model_wts = copy.deepcopy(self.model.state_dict())\n",
    "        best_acc = 0.0\n",
    "        stop = False\n",
    "\n",
    "        for epoch in range(num_epochs):\n",
    "            print('Epoch {}/{}'.format(epoch, num_epochs - 1))\n",
    "            print('-' * 10)\n",
    "\n",
    "            # Each epoch has a training and validation phase\n",
    "            for phase in ['train', 'val']:\n",
    "                if phase == 'train':\n",
    "                    self.model.train()  # Set model to training mode\n",
    "                    datalaoder = train_loader\n",
    "                else:\n",
    "                    self.model.eval()   # Set model to evaluate mode\n",
    "                    datalaoder = val_loader\n",
    "\n",
    "                running_loss = 0.0\n",
    "                running_corrects = 0\n",
    "\n",
    "                # Iterate over data.\n",
    "                for inputs, labels in dataloader:\n",
    "                    inputs = inputs.to(self.device)\n",
    "                    labels = labels.to(self.device)\n",
    "                    \n",
    "                    # zero the parameter gradients\n",
    "                    optimizer.zero_grad()\n",
    "\n",
    "                    # forward\n",
    "                    # track history if only in train\n",
    "                    with torch.set_grad_enabled(phase == 'train'):\n",
    "                        # Get model outputs and calculate loss\n",
    "                        # Special case for inception because in training it has an auxiliary output. In train\n",
    "                        #   mode we calculate the loss by summing the final output and the auxiliary output\n",
    "                        #   but in testing we only consider the final output.\n",
    "                        if is_inception and phase == 'train':\n",
    "                            # From https://discuss.pytorch.org/t/how-to-optimize-inception-model-with-auxiliary-classifiers/7958\n",
    "                            outputs, aux_outputs = self.model(inputs)\n",
    "                            loss1 = criterion(outputs, labels)\n",
    "                            loss2 = criterion(aux_outputs, labels)\n",
    "                            loss = loss1 + 0.4*loss2\n",
    "                        else:\n",
    "                            outputs = self.model(inputs)\n",
    "                            loss = criterion(outputs, labels)\n",
    "\n",
    "                        _, preds = torch.max(outputs, 1)\n",
    "\n",
    "                        # backward + optimize only if in training phase\n",
    "                        if phase == 'train':\n",
    "                            loss.backward()\n",
    "                            optimizer.step()\n",
    "\n",
    "                    # statistics\n",
    "                    running_loss += loss.item() * inputs.size(0)\n",
    "                    running_corrects += torch.sum(preds == labels.data)\n",
    "\n",
    "                epoch_loss = running_loss / len(dataloader.dataset)\n",
    "                epoch_acc = running_corrects.double() / len(dataloader.dataset)\n",
    "\n",
    "                print('{} Loss: {:.4f} Acc: {:.4f}'.format(phase, epoch_loss, epoch_acc))\n",
    "\n",
    "                # deep copy the model\n",
    "                if phase == 'val' and epoch_acc > best_acc:\n",
    "                    best_acc = epoch_acc\n",
    "                    best_model_wts = copy.deepcopy(self.model.state_dict())\n",
    "                if phase == 'val':\n",
    "                    val_acc_history.append(epoch_acc)\n",
    "                    # A simple addition to stop the training early\n",
    "                    val_loss_history.append(loss)\n",
    "                    if len(val_loss_history) > 3:\n",
    "                        stop = (abs(val_loss_history[-3] - val_loss_history[-3]) +\n",
    "                                abs(val_loss_history[-1] - val_loss_history[-2])) <= 0.001\n",
    "                        print(abs(val_loss_history[-3] - val_loss_history[-3]) +\n",
    "                                abs(val_loss_history[-1] - val_loss_history[-2]))\n",
    "                if stop:\n",
    "                    break\n",
    "\n",
    "            print()\n",
    "\n",
    "        time_elapsed = time.time() - since\n",
    "        print('Training complete in {:.0f}m {:.0f}s'.format(time_elapsed // 60, time_elapsed % 60))\n",
    "        print('Best val Acc: {:4f}'.format(best_acc))\n",
    "\n",
    "        # load best model weights\n",
    "        self.model.load_state_dict(best_model_wts)\n",
    "        torch.save(self.model, 'model.pth')\n",
    "        return self.model, val_acc_history\n",
    "\n",
    "    def forward(self, x):\n",
    "        return self.model(x)\n",
    "\n",
    "    def evaluate(self, testloader):\n",
    "        \"\"\"\n",
    "        train_methode is written in a way that it can also directly be used as evaluation\n",
    "        by calling it this way\n",
    "        \"\"\"\n",
    "        _, acc = self.train_model('_', testloader, '_', '_', num_epochs=1, is_inception=False)\n",
    "        return acc\n",
    "\n",
    "    def load_model(self, path):\n",
    "        self.model = torch.load(path)"
   ]
  },
  {
   "cell_type": "markdown",
   "metadata": {},
   "source": [
    "## This is the code to train variant 1"
   ]
  },
  {
   "cell_type": "code",
   "execution_count": null,
   "metadata": {
    "id": "QgfScyy_wlk0"
   },
   "outputs": [],
   "source": [
    "#model_obj = VGG(model_name=model_name, num_classes=num_classes, feature_extract=feature_extract, use_pretrained=True)"
   ]
  },
  {
   "cell_type": "code",
   "execution_count": null,
   "metadata": {
    "id": "siRTFm6mxRWL"
   },
   "outputs": [],
   "source": [
    "#model_obj.model"
   ]
  },
  {
   "cell_type": "code",
   "execution_count": null,
   "metadata": {
    "id": "SoEJDgjxxVro"
   },
   "outputs": [],
   "source": [
    "# Now we finetune the model to get a descent classfication performance on it\n",
    "#print(\"Original model training:\")\n",
    "#params_to_update = model_obj.get_params_to_update()"
   ]
  },
  {
   "cell_type": "code",
   "execution_count": null,
   "metadata": {
    "id": "EAoyqkq0yGa_"
   },
   "outputs": [],
   "source": [
    "#optimizer_ft = optim.SGD(params_to_update, lr=0.001, momentum=0.9)\n",
    "#optimizer_ft = optim.Adam(params_to_update, lr=0.001)\n",
    "#num_epochs = 5"
   ]
  },
  {
   "cell_type": "code",
   "execution_count": null,
   "metadata": {
    "id": "bT3Z1aOgVMSU"
   },
   "outputs": [],
   "source": [
    "# Setup the loss fxn\n",
    "#criterion = nn.CrossEntropyLoss()"
   ]
  },
  {
   "cell_type": "code",
   "execution_count": null,
   "metadata": {
    "id": "Lp82V5cuyw1q"
   },
   "outputs": [],
   "source": [
    "#model, hist = model_obj.train_model(train_loader, val_loader, criterion, optimizer_ft, num_epochs=num_epochs, is_inception=False)"
   ]
  },
  {
   "cell_type": "code",
   "execution_count": null,
   "metadata": {
    "id": "qBFelOwFxU2f"
   },
   "outputs": [],
   "source": [
    "#model_obj.load_model('/content/drive/MyDrive/DHBW Vorlesungen/6. Semester/Daten für Projekte/model.pth')"
   ]
  },
  {
   "cell_type": "code",
   "execution_count": null,
   "metadata": {
    "id": "xUXq8-Dy37NO"
   },
   "outputs": [],
   "source": [
    "#model = model_obj.model"
   ]
  },
  {
   "cell_type": "markdown",
   "metadata": {
    "id": "nzE_E5uNWDO7"
   },
   "source": [
    "## Second Variant\n",
    "Training own VGG11 on Cifar 100, loading the pretrained model was diffult in a way that ART could properly interact with it\n",
    "\n",
    "Used for this pretraining was code from https://github.com/kuangliu/pytorch-cifar which was fitted for this usecasse"
   ]
  },
  {
   "cell_type": "code",
   "execution_count": null,
   "metadata": {
    "colab": {
     "base_uri": "https://localhost:8080/"
    },
    "id": "5eAhdpQFF1KV",
    "outputId": "be75b88f-fc00-4339-ade8-4068f125662f"
   },
   "outputs": [
    {
     "name": "stdout",
     "output_type": "stream",
     "text": [
      "torch.Size([2, 100])\n"
     ]
    }
   ],
   "source": [
    "'''\n",
    "VGG11/13/16/19 in Pytorch.\n",
    "https://github.com/kuangliu/pytorch-cifar/blob/master/models/vgg.py\n",
    "'''\n",
    "cfg = {\n",
    "    'VGG11': [64, 'M', 128, 'M', 256, 256, 'M', 512, 512, 'M', 512, 512, 'M'],\n",
    "    'VGG13': [64, 64, 'M', 128, 128, 'M', 256, 256, 'M', 512, 512, 'M', 512, 512, 'M'],\n",
    "    'VGG16': [64, 64, 'M', 128, 128, 'M', 256, 256, 256, 'M', 512, 512, 512, 'M', 512, 512, 512, 'M'],\n",
    "    'VGG19': [64, 64, 'M', 128, 128, 'M', 256, 256, 256, 256, 'M', 512, 512, 512, 512, 'M', 512, 512, 512, 512, 'M'],\n",
    "}\n",
    "\n",
    "\n",
    "class Own_VGG(nn.Module):\n",
    "    def __init__(self, vgg_name):\n",
    "        super(Own_VGG, self).__init__()\n",
    "        self.features = self._make_layers(cfg[vgg_name])\n",
    "        self.classifier = nn.Linear(512, 100)\n",
    "\n",
    "    def forward(self, x):\n",
    "        # print(x.shape)\n",
    "        out = self.features(x)\n",
    "        out = out.view(out.size(0), -1)\n",
    "        out = self.classifier(out)\n",
    "        return out\n",
    "\n",
    "    def _make_layers(self, cfg):\n",
    "        layers = []\n",
    "        in_channels = 3\n",
    "        for x in cfg:\n",
    "            if x == 'M':\n",
    "                layers += [nn.MaxPool2d(kernel_size=2, stride=2)]\n",
    "            else:\n",
    "                layers += [nn.Conv2d(in_channels, x, kernel_size=3, padding=1),\n",
    "                           nn.BatchNorm2d(x),\n",
    "                           nn.ReLU(inplace=True)]\n",
    "                in_channels = x\n",
    "        layers += [nn.AvgPool2d(kernel_size=1, stride=1)]\n",
    "        return nn.Sequential(*layers)\n",
    "\n",
    "\n",
    "def test():\n",
    "    net = Own_VGG('VGG11')\n",
    "    x = torch.randn(2,3,32,32)\n",
    "    y = net(x)\n",
    "    print(y.size())\n",
    "\n",
    "test()"
   ]
  },
  {
   "cell_type": "code",
   "execution_count": null,
   "metadata": {
    "id": "lLoSIE7pHT7s"
   },
   "outputs": [],
   "source": [
    "# Train the model, skipped after I trained and saved it once\n",
    "#Own_VGG.train_model = VGG.train_model"
   ]
  },
  {
   "cell_type": "code",
   "execution_count": null,
   "metadata": {
    "id": "9Odo464AHk37"
   },
   "outputs": [],
   "source": [
    "device = torch.device(\"cuda:0\" if torch.cuda.is_available() else \"cpu\")\n",
    "\n",
    "net = Own_VGG('VGG11')\n",
    "net = net.to(device)\n",
    "\n",
    "if device == 'cuda':\n",
    "    net = torch.nn.DataParallel(net)\n",
    "    cudnn.benchmark = True"
   ]
  },
  {
   "cell_type": "code",
   "execution_count": null,
   "metadata": {
    "id": "e61Htl6MHdzY"
   },
   "outputs": [],
   "source": [
    "optimizer = optim.SGD(net.parameters(), lr=0.01,\n",
    "                      momentum=0.9, weight_decay=5e-4)\n",
    "#optimizer = optim.Adam(net.parameters(), lr=0.001)\n",
    "criterion = nn.CrossEntropyLoss()\n",
    "scheduler = torch.optim.lr_scheduler.CosineAnnealingLR(optimizer, T_max=200)\n",
    "start_epoch = 1\n",
    "num_epochs = 5\n",
    "\n",
    "# Training\n",
    "def train(epoch):\n",
    "    if not (epoch % 10) or epoch == 1:\n",
    "        print('\\nEpoch: %d' % epoch)\n",
    "    net.train()\n",
    "    train_loss = 0\n",
    "    correct = 0\n",
    "    total = 0\n",
    "    for batch_idx, (inputs, targets) in enumerate(train_loader):\n",
    "        inputs, targets = inputs.to(device), targets.to(device)\n",
    "        optimizer.zero_grad()\n",
    "        outputs = net(inputs)\n",
    "        loss = criterion(outputs, targets)\n",
    "\n",
    "        loss.backward()\n",
    "        optimizer.step()\n",
    "\n",
    "        train_loss += loss.item()\n",
    "        _, predicted = outputs.max(1)\n",
    "        total += targets.size(0)\n",
    "        correct += predicted.eq(targets).sum().item()\n",
    "\n",
    "        if not (epoch % 10) or epoch == 1:\n",
    "            print(batch_idx, len(train_loader), 'Loss: %.3f | Acc: %.3f%% (%d/%d)'\n",
    "                     % (train_loss/(batch_idx+1), 100.*correct/total, correct, total), end='\\r')\n",
    "    if not (epoch % 10):\n",
    "        print()\n",
    "\n",
    "\n",
    "def eval(epoch, best_acc, path):\n",
    "\n",
    "    net.eval()\n",
    "    eval_loss = 0\n",
    "    correct = 0\n",
    "    total = 0\n",
    "    with torch.no_grad():\n",
    "        for batch_idx, (inputs, targets) in enumerate(val_loader):\n",
    "            inputs, targets = inputs.to(device), targets.to(device)\n",
    "            outputs = net(inputs)\n",
    "            loss = criterion(outputs, targets)\n",
    "\n",
    "            eval_loss += loss.item()\n",
    "            _, predicted = outputs.max(1)\n",
    "            total += targets.size(0)\n",
    "            correct += predicted.eq(targets).sum().item()\n",
    "\n",
    "            if not (epoch % 10):\n",
    "                print(batch_idx, len(val_loader), 'Loss: %.3f | Acc: %.3f%% (%d/%d)'\n",
    "                         % (eval_loss/(batch_idx+1), 100.*correct/total, correct, total), end='\\r')\n",
    "\n",
    "    # Save checkpoint.\n",
    "    acc = 100.*correct/total\n",
    "    if acc > best_acc:\n",
    "        print('Saving..')\n",
    "        state = {\n",
    "            'net': net.state_dict(),\n",
    "            'acc': acc,\n",
    "            'epoch': epoch,\n",
    "        }\n",
    "        \n",
    "        torch.save(state, path)\n",
    "        best_acc = acc\n",
    "    \n",
    "    return best_acc\n",
    "\n",
    "#path = '/content/drive/MyDrive/DHBW Vorlesungen/6. Semester/Daten für Projekte/own_vgg_model.pth'\n",
    "path = '/content/drive/MyDrive/Daten für Projekte/own_vgg_model.pth'\n",
    "if False:\n",
    "    best_acc = 50\n",
    "    for epoch in range(start_epoch, start_epoch+100):\n",
    "        train(epoch)\n",
    "        best_acc = eval(epoch, best_acc, path)\n",
    "        scheduler.step()\n",
    "\n",
    "if True:\n",
    "    net.load_state_dict(torch.load(path)['net'])\n",
    "    #net.load_state_dict(torch.load(path, map_location=torch.device('cpu'))['net'])"
   ]
  },
  {
   "cell_type": "code",
   "execution_count": null,
   "metadata": {
    "id": "DNIdj7CaN6RP"
   },
   "outputs": [],
   "source": [
    "model = net"
   ]
  },
  {
   "cell_type": "code",
   "execution_count": null,
   "metadata": {
    "id": "CKtFcnNNj39B"
   },
   "outputs": [],
   "source": [
    "dataiter = iter(test_loader)\n",
    "images, labels = dataiter.next()"
   ]
  },
  {
   "cell_type": "code",
   "execution_count": null,
   "metadata": {
    "id": "n1SvPUmJkJ5c"
   },
   "outputs": [],
   "source": [
    "import matplotlib.pyplot as plt\n",
    "import numpy as np\n",
    "\n",
    "# functions to show an image\n",
    "def imshow(img):\n",
    "    img = img / 2 + 0.5     # unnormalize\n",
    "    npimg = img.numpy()\n",
    "    plt.imshow(np.transpose(npimg, (1, 2, 0)))\n",
    "    plt.show()"
   ]
  },
  {
   "cell_type": "code",
   "execution_count": null,
   "metadata": {
    "colab": {
     "base_uri": "https://localhost:8080/",
     "height": 212
    },
    "id": "NntVD7gWkCkG",
    "outputId": "c273c4f5-2210-459f-cb94-887a3ab600c8"
   },
   "outputs": [
    {
     "name": "stderr",
     "output_type": "stream",
     "text": [
      "Clipping input data to the valid range for imshow with RGB data ([0..1] for floats or [0..255] for integers).\n"
     ]
    },
    {
     "data": {
      "image/png": "[encoded data removed]",
      "text/plain": [
       "<Figure size 432x288 with 1 Axes>"
      ]
     },
     "metadata": {
      "needs_background": "light",
      "tags": []
     },
     "output_type": "display_data"
    },
    {
     "name": "stdout",
     "output_type": "stream",
     "text": [
      "GroundTruth:  tensor(67) tensor(89) tensor(20) tensor(37)\n"
     ]
    }
   ],
   "source": [
    "# print images\n",
    "imshow(torchvision.utils.make_grid(images))\n",
    "print('GroundTruth: ', ' '.join('%5s' % labels[j] for j in range(5)))"
   ]
  },
  {
   "cell_type": "markdown",
   "metadata": {
    "id": "V3cerTD2jzTL"
   },
   "source": [
    "# Start off the Model stealing\n",
    "\n",
    "At this point we have a trained model, which we can try to steal"
   ]
  },
  {
   "cell_type": "code",
   "execution_count": null,
   "metadata": {
    "id": "r-WaMUFtV6vH"
   },
   "outputs": [],
   "source": [
    "sample = iter(test_loader)\n",
    "input_shape = next(sample)[0].shape"
   ]
  },
  {
   "cell_type": "code",
   "execution_count": null,
   "metadata": {
    "id": "VzaLu-ZJV8m7"
   },
   "outputs": [],
   "source": [
    "classifier_original = PyTorchClassifier(model,\n",
    "                                        loss=nn.CrossEntropyLoss(),\n",
    "                                        input_shape=input_shape,\n",
    "                                        clip_values=(0, 1),\n",
    "                                        nb_classes=100)"
   ]
  },
  {
   "cell_type": "code",
   "execution_count": null,
   "metadata": {
    "id": "T-I0OJ8Edu9m"
   },
   "outputs": [],
   "source": [
    "len_steal = 250"
   ]
  },
  {
   "cell_type": "code",
   "execution_count": null,
   "metadata": {
    "id": "trUOBamVWCE6"
   },
   "outputs": [],
   "source": [
    "# Stealing from the unprotected classifier.\n",
    "from art.attacks import ExtractionAttack\n",
    "from art.attacks.extraction import CopycatCNN, KnockoffNets\n",
    "\n",
    "attack_catalogue = {\"Probabilistic CopycatCNN\": CopycatCNN(classifier=classifier_original,\n",
    "                                              batch_size_fit=64,\n",
    "                                              batch_size_query=64,\n",
    "                                              nb_epochs=num_epochs,\n",
    "                                              nb_stolen=len_steal,\n",
    "                                              use_probability=True),\n",
    "                    \"Argmax CopycatCNN\": CopycatCNN(classifier=classifier_original,\n",
    "                                              batch_size_fit=64,\n",
    "                                              batch_size_query=64,\n",
    "                                              nb_epochs=num_epochs,\n",
    "                                              nb_stolen=len_steal,\n",
    "                                              use_probability=False),\n",
    "                    \"Probabilistic KnockoffNets\": KnockoffNets(classifier=classifier_original,\n",
    "                                              batch_size_fit=64,\n",
    "                                              batch_size_query=64,\n",
    "                                              nb_epochs=num_epochs,\n",
    "                                              nb_stolen=len_steal,\n",
    "                                              use_probability=True),\n",
    "                    \"Argmax KnockoffNets\": KnockoffNets(classifier=classifier_original,\n",
    "                                              batch_size_fit=64,\n",
    "                                              batch_size_query=64,\n",
    "                                              nb_epochs=num_epochs,\n",
    "                                              nb_stolen=len_steal,\n",
    "                                              use_probability=False),\n",
    "                   }"
   ]
  },
  {
   "cell_type": "code",
   "execution_count": null,
   "metadata": {
    "id": "c6Lt5Ap7WHKK"
   },
   "outputs": [],
   "source": [
    "# Eval Method from pytorch.org fitted to this purpose\n",
    "def evaluate(self, images, labels):\n",
    "    #device = torch.device(\"cuda:0\" if torch.cuda.is_available() else \"cpu\")\n",
    "    correct = 0\n",
    "    total = 0\n",
    "    # since we're not training, we don't need to calculate the gradients for our outputs\n",
    "    with torch.no_grad():\n",
    "        \n",
    "        # calculate outputs by running images through the network\n",
    "        #images = images.to(device)\n",
    "        outputs = self._model(images)\n",
    "        #print(type(outputs), outputs)\n",
    "        # the class with the highest energy is what we choose as prediction\n",
    "        _, predicted = torch.max(outputs[0].data, 1)\n",
    "        total += labels.size(0)\n",
    "        labels = labels.to(device)\n",
    "        #print(predicted.shape, labels.shape)\n",
    "        correct += (predicted == labels).sum().item()\n",
    "\n",
    "    print(f'Accuracy of the network on the {total} test images: {100 * correct / total}')\n",
    "    return 100 * correct / total"
   ]
  },
  {
   "cell_type": "code",
   "execution_count": null,
   "metadata": {
    "id": "Zl3ca2pjxTsu"
   },
   "outputs": [],
   "source": [
    "# Modify the ART class for pytorch to eval the stolen model\n",
    "PyTorchClassifier.evaluate = evaluate"
   ]
  },
  {
   "cell_type": "markdown",
   "metadata": {},
   "source": [
    "# This cell had some weird bugs I wasnt able to fix"
   ]
  },
  {
   "cell_type": "code",
   "execution_count": null,
   "metadata": {
    "colab": {
     "base_uri": "https://localhost:8080/",
     "height": 714
    },
    "id": "bXUYDyU7WEJ4",
    "outputId": "4f0a8a6f-01c9-4d1b-962c-a2f1a9abc13d"
   },
   "outputs": [],
   "source": [
    "for name, attack in attack_catalogue.items():\n",
    "    model_stolen =  Own_VGG('VGG11')\n",
    "\n",
    "    for idx, (test_set_x, test_set_y) in enumerate(steal_loader):\n",
    "        \n",
    "        len_steal = int(len(test_set_x)//2)\n",
    "        print(len_steal)\n",
    "        print(test_set_x.shape)\n",
    "        indices = np.random.permutation(len_steal)\n",
    "        x_steal = test_set_x[indices[:len_steal]]\n",
    "        y_steal = test_set_y[indices[:len_steal]]\n",
    "        x_test = test_set_x[indices[len_steal:]]\n",
    "        y_test = test_set_y[indices[len_steal:]]\n",
    "        print(x_test.shape)\n",
    "\n",
    "            \n",
    "        if idx == 0:\n",
    "            classifier_stolen = PyTorchClassifier(model_stolen, loss=criterion, optimizer=optimizer,\n",
    "                                            input_shape=x_steal.shape, nb_classes=100,\n",
    "                                            clip_values=(0, 1))\n",
    "        else:\n",
    "            pass\n",
    "        \n",
    "        classifier_stolen = attack.extract(x_steal, y_steal, thieved_classifier=classifier_stolen)\n",
    "        \n",
    "        #TODO add a function to PytorchClassifier and let it return a evalutation\n",
    "        x_test = x_test.to(device)\n",
    "        y_test = y_test.to(device)\n",
    "\n",
    "        try:\n",
    "            acc = classifier_stolen.evaluate(x_test, y_test)\n",
    "            print(name, \":\", acc)\n",
    "            results.append((name, len_steal, acc))\n",
    "        except:\n",
    "            print(x_test.shape)"
   ]
  },
  {
   "cell_type": "markdown",
   "metadata": {},
   "source": [
    "# Standard Plotting functionality from the example"
   ]
  },
  {
   "cell_type": "code",
   "execution_count": null,
   "metadata": {},
   "outputs": [],
   "source": [
    "import pandas as pd\n",
    "df_protected = pd.DataFrame(results_protected, columns=('Method Name', 'Stealing Dataset Size', 'Accuracy'))\n",
    "fig, ax = plt.subplots(figsize=(8,6))\n",
    "ax.set_xlabel(\"Stealing Dataset Size\")\n",
    "ax.set_ylabel(\"Stolen Model Accuracy\")\n",
    "for name, group in df_protected.groupby(\"Method Name\"):\n",
    "    group.plot(1, 2, ax=ax, label=name)\n",
    "plt.show()"
   ]
  },
  {
   "cell_type": "code",
   "execution_count": null,
   "metadata": {},
   "outputs": [],
   "source": [
    "df_combined = pd.concat([df, df_protected])\n",
    "groupby = df_combined.groupby(\"Method Name\")"
   ]
  },
  {
   "cell_type": "code",
   "execution_count": null,
   "metadata": {},
   "outputs": [],
   "source": [
    "names = [\"CopycatCNN\", \"KnockoffNets\"]\n",
    "for name in names:\n",
    "    fig, ax = plt.subplots(figsize=(8,6))\n",
    "    groupby.get_group(\"Probabilistic \" + name).plot(1,2,ax=ax, label=\"Probabilistic \" + name)\n",
    "    groupby.get_group(\"Probabilistic \" + name + \" (vs. Protected)\").plot(1,2,ax=ax, label=\"Probabilistic \" + name + \" (vs. Protected)\")\n",
    "    ax.set_xlabel(\"Stealing Dataset Size\")\n",
    "    ax.set_ylabel(\"Stolen Model Accuracy\")\n",
    "    fig.show()"
   ]
  },
  {
   "cell_type": "code",
   "execution_count": null,
   "metadata": {},
   "outputs": [],
   "source": []
  }
 ],
 "metadata": {
  "accelerator": "GPU",
  "colab": {
   "collapsed_sections": [
    "V3cerTD2jzTL",
    "VRnu2oqXjzq6"
   ],
   "machine_shape": "hm",
   "name": "Kopie von Björns Bonus.ipynb",
   "provenance": []
  },
  "kernelspec": {
   "display_name": "Python 3",
   "language": "python",
   "name": "python3"
  },
  "language_info": {
   "codemirror_mode": {
    "name": "ipython",
    "version": 3
   },
   "file_extension": ".py",
   "mimetype": "text/x-python",
   "name": "python",
   "nbconvert_exporter": "python",
   "pygments_lexer": "ipython3",
   "version": "3.9.4"
  }
 },
 "nbformat": 4,
 "nbformat_minor": 4
}
